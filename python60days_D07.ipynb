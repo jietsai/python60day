{
 "cells": [
  {
   "cell_type": "code",
   "execution_count": 25,
   "metadata": {},
   "outputs": [],
   "source": [
    "#活用矩陣運算，實做線性代數\n",
    "#作業重點\n",
    "#線性代數公式應用\n",
    "#矩陣相乘維度需要對好，例如:2X3矩陣乘上3X5矩陣得到2X5矩陣\n",
    "\n",
    "import numpy as np"
   ]
  },
  {
   "cell_type": "code",
   "execution_count": 26,
   "metadata": {},
   "outputs": [
    {
     "name": "stdout",
     "output_type": "stream",
     "text": [
      "[[1. 0.]\n",
      " [0. 1.]]\n"
     ]
    }
   ],
   "source": [
    "#1. 運用上列array計算反矩陣，乘上原矩陣，並觀察是否為單位矩陣?\n",
    "array1 = np.array([[10, 8], [3, 5]])\n",
    "array1_inv = np.linalg.inv(array1)\n",
    "print(array1@array1_inv)"
   ]
  },
  {
   "cell_type": "code",
   "execution_count": 27,
   "metadata": {},
   "outputs": [
    {
     "name": "stdout",
     "output_type": "stream",
     "text": [
      "特徵值: [13.  2.]\n",
      "特徵向量: [[ 0.93632918 -0.70710678]\n",
      " [ 0.35112344  0.70710678]]\n"
     ]
    }
   ],
   "source": [
    "#2. 運用上列array計算特徵值、特徵向量?\n",
    "w, v = np.linalg.eig(array1)\n",
    "print(\"特徵值:\",w)\n",
    "print(\"特徵向量:\",v)"
   ]
  },
  {
   "cell_type": "code",
   "execution_count": 28,
   "metadata": {},
   "outputs": [
    {
     "name": "stdout",
     "output_type": "stream",
     "text": [
      "u: [[-0.91663818 -0.39971796]\n",
      " [-0.39971796  0.91663818]]\n",
      "s: [13.94721714  1.86417116]\n",
      "vh: [[-0.74319741 -0.6690722 ]\n",
      " [-0.6690722   0.74319741]]\n"
     ]
    }
   ],
   "source": [
    "#3. 運用上列array計算SVD?\n",
    "u, s, vh = np.linalg.svd(array1)\n",
    "print(\"u:\",u)\n",
    "print(\"s:\",s)\n",
    "print(\"vh:\",vh)"
   ]
  }
 ],
 "metadata": {
  "kernelspec": {
   "display_name": "Python 3",
   "language": "python",
   "name": "python3"
  },
  "language_info": {
   "codemirror_mode": {
    "name": "ipython",
    "version": 3
   },
   "file_extension": ".py",
   "mimetype": "text/x-python",
   "name": "python",
   "nbconvert_exporter": "python",
   "pygments_lexer": "ipython3",
   "version": "3.8.5"
  }
 },
 "nbformat": 4,
 "nbformat_minor": 4
}
