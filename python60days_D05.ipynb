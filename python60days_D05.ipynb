{
 "cells": [
  {
   "cell_type": "code",
   "execution_count": 19,
   "metadata": {},
   "outputs": [],
   "source": [
    "import numpy as np"
   ]
  },
  {
   "cell_type": "code",
   "execution_count": 20,
   "metadata": {},
   "outputs": [],
   "source": [
    "english_score = np.array([55,89,76,65,48,70])\n",
    "math_score = np.array([60,85,60,68,np.nan,60])\n",
    "chinese_score = np.array([65,90,82,72,66,77])"
   ]
  },
  {
   "cell_type": "code",
   "execution_count": 66,
   "metadata": {
    "scrolled": true
   },
   "outputs": [
    {
     "name": "stdout",
     "output_type": "stream",
     "text": [
      "==========平均值==========\n",
      "英文: 67.16666666666667\n",
      "數學: 64.66666666666667\n",
      "國文: 75.33333333333333\n",
      "==========最大值==========\n",
      "英文: 89\n",
      "數學: 85.0\n",
      "國文: 90\n",
      "==========最小值==========\n",
      "英文: 48\n",
      "數學: 55.0\n",
      "國文: 65\n",
      "==========標準值==========\n",
      "英文: 13.433995020924426\n",
      "數學: 9.860132971832694\n",
      "國文: 8.825468196582484\n"
     ]
    }
   ],
   "source": [
    "#1. 請計算各科成績平均、最大值、最小值、標準差，其中數學缺一筆資料可忽略?\n",
    "#平均值\n",
    "print(\"=\"*10+\"平均值\"+\"=\"*10)\n",
    "print(\"英文:\",np.mean(english_score))\n",
    "print(\"數學:\",np.nanmean(math_score))\n",
    "print(\"國文:\",np.mean(chinese_score))\n",
    "#最大值 #np.nanmax()回傳陣列中有非 nan 元素值的最大值\n",
    "print(\"=\"*10+\"最大值\"+\"=\"*10)\n",
    "print(\"英文:\",np.nanmax(english_score))\n",
    "print(\"數學:\",np.nanmax(math_score))\n",
    "print(\"國文:\",np.nanmax(chinese_score))\n",
    "#最小值 #np.nanmin()回傳陣列中有非 nan 元素值的最最小值\n",
    "print(\"=\"*10+\"最小值\"+\"=\"*10)\n",
    "print(\"英文:\",np.nanmin(english_score))\n",
    "print(\"數學:\",np.nanmin(math_score))\n",
    "print(\"國文:\",np.nanmin(chinese_score))\n",
    "#標準差 #每一個人的分數減去平均後平方的值再平均，值越大分數越分散\n",
    "print(\"=\"*10+\"標準值\"+\"=\"*10)\n",
    "print(\"英文:\",np.std(english_score))\n",
    "print(\"數學:\",np.nanstd(math_score))\n",
    "print(\"國文:\",np.std(chinese_score))"
   ]
  },
  {
   "cell_type": "code",
   "execution_count": 68,
   "metadata": {},
   "outputs": [
    {
     "name": "stdout",
     "output_type": "stream",
     "text": [
      "平均值: 64.66666666666667\n",
      "最大值: 85.0\n",
      "最小值: 55.0\n",
      "標準值: 9.860132971832694\n"
     ]
    }
   ],
   "source": [
    "#2. 第五位同學補考數學後成績為55，請計算補考後數學成績平均、最大值、最小值、標準差?\n",
    "math_score[4] = 55\n",
    "print(\"平均值:\",np.mean(math_score))\n",
    "print(\"最大值:\",np.max(math_score))\n",
    "print(\"最小值:\",np.min(math_score))\n",
    "print(\"標準值:\",np.std(math_score))"
   ]
  },
  {
   "cell_type": "code",
   "execution_count": 73,
   "metadata": {
    "scrolled": true
   },
   "outputs": [
    {
     "name": "stdout",
     "output_type": "stream",
     "text": [
      "英文國文相關係數:\n",
      " [[1.         0.97792828]\n",
      " [0.97792828 1.        ]]\n",
      "數學國文相關係數:\n",
      " [[1.         0.74056803]\n",
      " [0.74056803 1.        ]]\n"
     ]
    }
   ],
   "source": [
    "#3. 用補考後資料找出與國文成績相關係數最高的學科?\n",
    "print(\"英文國文相關係數:\\n\",np.corrcoef(english_score,chinese_score))\n",
    "print(\"數學國文相關係數:\\n\",np.corrcoef(math_score,chinese_score))"
   ]
  }
 ],
 "metadata": {
  "kernelspec": {
   "display_name": "Python 3",
   "language": "python",
   "name": "python3"
  },
  "language_info": {
   "codemirror_mode": {
    "name": "ipython",
    "version": 3
   },
   "file_extension": ".py",
   "mimetype": "text/x-python",
   "name": "python",
   "nbconvert_exporter": "python",
   "pygments_lexer": "ipython3",
   "version": "3.8.5"
  }
 },
 "nbformat": 4,
 "nbformat_minor": 4
}
